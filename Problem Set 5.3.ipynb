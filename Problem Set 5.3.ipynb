{
 "cells": [
  {
   "cell_type": "code",
   "execution_count": null,
   "metadata": {},
   "outputs": [],
   "source": [
    "class CiphertextMessage(Message):\n",
    "    \n",
    "    def __init__(self, text):\n",
    "        \n",
    "        self.message_text = text\n",
    "        self.valid_words = load_words(WORDLIST_FILENAME)\n",
    "    \n",
    "    def decrypt_message(self):\n",
    "        \n",
    "        counter = 0\n",
    "        max_count = 0\n",
    "        \n",
    "        for i in range(26):\n",
    "            for j in list(super(CiphertextMessage, self).apply_shift(i).split(' ')):\n",
    "                if is_word(self.valid_words, j):\n",
    "                    counter += 1\n",
    "                if counter > max_count:\n",
    "                    max_count = counter\n",
    "                    shift_value = i\n",
    "                    decrypted_message = super(CiphertextMessage, self).apply_shift(i)\n",
    "        return (shift_value, decrypted_message)"
   ]
  }
 ],
 "metadata": {
  "kernelspec": {
   "display_name": "Python 3",
   "language": "python",
   "name": "python3"
  },
  "language_info": {
   "codemirror_mode": {
    "name": "ipython",
    "version": 3
   },
   "file_extension": ".py",
   "mimetype": "text/x-python",
   "name": "python",
   "nbconvert_exporter": "python",
   "pygments_lexer": "ipython3",
   "version": "3.6.5"
  }
 },
 "nbformat": 4,
 "nbformat_minor": 2
}
