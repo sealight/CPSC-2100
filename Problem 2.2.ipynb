{
 "cells": [
  {
   "cell_type": "code",
   "execution_count": 29,
   "metadata": {},
   "outputs": [
    {
     "name": "stdout",
     "output_type": "stream",
     "text": [
      "290\n"
     ]
    }
   ],
   "source": [
    "balance = 3329\n",
    "annualInterestRate = 0.2\n",
    "\n",
    "initialBalance = balance\n",
    "monthlyInterestRate = (annualInterestRate) / 12.0\n",
    "#monthlyUnpaidBalance = (initialBalance) - (monthlyPayment)\n",
    "#updatedBalance = (Monthly unpaid balance) + (Monthly interest rate x Monthly unpaid balance)\n",
    "\n",
    "minMonthlyPaymentFound = False\n",
    "minMonthlyPayment = 0\n",
    "months = ['1', '2', '3', '4', '5', '6', '7', '8', '9', '10', '11', '12']\n",
    "count = 0\n",
    "while (minMonthlyPaymentFound == False):\n",
    "    minMonthlyPayment += 10\n",
    "    for x in range(1,13):\n",
    "        count += 1\n",
    "        if (count == 1):\n",
    "            monthlyUnpaidBalance = initialBalance - (minMonthlyPayment)\n",
    "            updatedBalance = (monthlyUnpaidBalance) + (monthlyInterestRate * monthlyUnpaidBalance)\n",
    "        else:\n",
    "            monthlyUnpaidBalance = updatedBalance - (minMonthlyPayment)\n",
    "            updatedBalance = (monthlyUnpaidBalance) + (monthlyInterestRate * monthlyUnpaidBalance)\n",
    "    if updatedBalance <= balance:\n",
    "            minMonthlyPaymentFound = True\n",
    "        \n",
    "print (minMonthlyPayment)\n"
   ]
  },
  {
   "cell_type": "code",
   "execution_count": 38,
   "metadata": {},
   "outputs": [
    {
     "name": "stdout",
     "output_type": "stream",
     "text": [
      "Lowest Payment: 310\n"
     ]
    }
   ],
   "source": [
    "balance = 3329\n",
    "annualInterestRate = 0.2\n",
    "\n",
    "initialBalance = balance\n",
    "monthlyInterestRate = (annualInterestRate) / 12.0\n",
    "#monthlyUnpaidBalance = (initialBalance) - (monthlyPayment)\n",
    "#updatedBalance = (Monthly unpaid balance) + (Monthly interest rate x Monthly unpaid balance)\n",
    "\n",
    "minMonthlyPaymentFound = False\n",
    "minMonthlyPayment = 10\n",
    "currentMonth = 0\n",
    "def minMonthlyPay(currentMonth, balance, minMonthlyPayment, monthlyInterestRate):\n",
    "    while currentMonth < 12:\n",
    "        monthlyUnpaidBalance = balance - minMonthlyPayment\n",
    "        balance = (monthlyUnpaidBalance) + (monthlyInterestRate * monthlyUnpaidBalance)\n",
    "        currentMonth += 1\n",
    "    return balance\n",
    "while minMonthlyPay(currentMonth, balance, minMonthlyPayment, monthlyInterestRate) > 0:\n",
    "    balance = initialBalance\n",
    "    minMonthlyPayment += 10\n",
    "    minMonthlyPay(currentMonth, balance, minMonthlyPayment, monthlyInterestRate)\n",
    "        \n",
    "print ('Lowest Payment: ' + str(minMonthlyPayment))"
   ]
  },
  {
   "cell_type": "code",
   "execution_count": null,
   "metadata": {},
   "outputs": [],
   "source": []
  }
 ],
 "metadata": {
  "kernelspec": {
   "display_name": "Python 3",
   "language": "python",
   "name": "python3"
  }
 },
 "nbformat": 4,
 "nbformat_minor": 2
}
