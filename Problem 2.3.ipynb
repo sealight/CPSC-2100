{
 "cells": [
  {
   "cell_type": "code",
   "execution_count": 1,
   "metadata": {},
   "outputs": [
    {
     "name": "stdout",
     "output_type": "stream",
     "text": [
      "Lowest Payment: 2915.72\n"
     ]
    }
   ],
   "source": [
    "balance = 32000\n",
    "annualInterestRate = 0.2\n",
    "\n",
    "monthlyInterestRate = (annualInterestRate) / 12.0\n",
    "monthlyPaymentLowerBound = balance / 12\n",
    "monthlyPaymentUpperBound = (balance * (1 + monthlyInterestRate)*12) / 12.0\n",
    "\n",
    "initialBalance = balance\n",
    "\n",
    "minMonthlyPayment = (monthlyPaymentUpperBound + monthlyPaymentLowerBound)/2.0\n",
    "currentMonth = 0\n",
    "min = 0.01\n",
    "def minMonthlyPay(currentMonth, balance, minMonthlyPayment, monthlyInterestRate):\n",
    "    while currentMonth < 12:\n",
    "        monthlyUnpaidBalance = balance - minMonthlyPayment\n",
    "        balance = (monthlyUnpaidBalance) + (monthlyInterestRate * monthlyUnpaidBalance)\n",
    "        currentMonth += 1\n",
    "    return balance\n",
    "while abs(balance) >= min:\n",
    "    balance = initialBalance\n",
    "    month = 0\n",
    "    balance = minMonthlyPay(currentMonth, balance, minMonthlyPayment, monthlyInterestRate)\n",
    "    if balance > 0:\n",
    "        monthlyPaymentLowerBound = minMonthlyPayment\n",
    "    else:\n",
    "        monthlyPaymentUpperBound = minMonthlyPayment\n",
    "    minMonthlyPayment = (monthlyPaymentUpperBound + monthlyPaymentLowerBound)/2.0\n",
    "minMonthlyPayment = round(minMonthlyPayment, 2)\n",
    "\n",
    "print ('Lowest Payment: ' + str(minMonthlyPayment))"
   ]
  },
  {
   "cell_type": "code",
   "execution_count": null,
   "metadata": {},
   "outputs": [],
   "source": []
  }
 ],
 "metadata": {
  "kernelspec": {
   "display_name": "Python 3",
   "language": "python",
   "name": "python3"
  },
  "language_info": {
   "codemirror_mode": {
    "name": "ipython",
    "version": 3
   },
   "file_extension": ".py",
   "mimetype": "text/x-python",
   "name": "python",
   "nbconvert_exporter": "python",
   "pygments_lexer": "ipython3",
   "version": "3.6.5"
  }
 },
 "nbformat": 4,
 "nbformat_minor": 2
}
