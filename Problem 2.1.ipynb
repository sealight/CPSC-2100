{
 "cells": [
  {
   "cell_type": "code",
   "execution_count": 11,
   "metadata": {},
   "outputs": [
    {
     "name": "stdout",
     "output_type": "stream",
     "text": [
      "Month 1 Remaining Balance: 40.99\n",
      "Month 2 Remaining Balance: 40.01\n",
      "Month 3 Remaining Balance: 39.05\n",
      "Month 4 Remaining Balance: 38.11\n",
      "Month 5 Remaining Balance: 37.2\n",
      "Month 6 Remaining Balance: 36.31\n",
      "Month 7 Remaining Balance: 35.44\n",
      "Month 8 Remaining Balance: 34.59\n",
      "Month 9 Remaining Balance: 33.76\n",
      "Month 10 Remaining Balance: 32.95\n",
      "Month 11 Remaining Balance: 32.16\n",
      "Month 12 Remaining Balance: 31.39\n"
     ]
    }
   ],
   "source": [
    "balance = 42\n",
    "annualInterestRate = 0.2\n",
    "monthlyPaymentRate = 0.04\n",
    "\n",
    "monthlyInterestRate = (annualInterestRate) / 12.0\n",
    "#Minimum monthly payment = (Minimum monthly payment rate) x (Previous balance)\n",
    "#Monthly unpaid balance = (Previous balance) - (Minimum monthly payment)\n",
    "#Updated balance each month = (Monthly unpaid balance) + (Monthly interest rate x Monthly unpaid balance)\n",
    "months = ['1', '2', '3', '4', '5', '6', '7', '8', '9', '10', '11', '12']\n",
    "count = 0\n",
    "for i in months:\n",
    "    count += 1\n",
    "    if(count > 1):\n",
    "        monthlyPayment = monthlyPaymentRate * updatedBalance\n",
    "        totalAmountPaid += monthlyPayment\n",
    "        monthlyUnpaidBalance = updatedBalance - monthlyPayment\n",
    "    \n",
    "        updatedBalance = (monthlyUnpaidBalance) + (monthlyInterestRate * monthlyUnpaidBalance)\n",
    "        updatedBalance = round(updatedBalance, 2)\n",
    "        print (\"Month \" + str(count) + \" Remaining Balance: \" + str(updatedBalance))\n",
    "    else:\n",
    "        monthlyPayment = monthlyPaymentRate * balance\n",
    "        totalAmountPaid += monthlyPayment\n",
    "        monthlyUnpaidBalance = balance - monthlyPayment\n",
    "    \n",
    "        updatedBalance = (monthlyUnpaidBalance) + (monthlyInterestRate * monthlyUnpaidBalance)\n",
    "        updatedBalance = round(updatedBalance, 2)\n",
    "        print (\"Month \" + str(count) + \" Remaining Balance: \" + str(updatedBalance))\n",
    "    \n"
   ]
  },
  {
   "cell_type": "code",
   "execution_count": 14,
   "metadata": {},
   "outputs": [
    {
     "name": "stdout",
     "output_type": "stream",
     "text": [
      "Month 12 Remaining Balance: 361.62\n"
     ]
    }
   ],
   "source": [
    "balance = 484\n",
    "annualInterestRate = 0.2\n",
    "monthlyPaymentRate = 0.04\n",
    "\n",
    "monthlyInterestRate = (annualInterestRate) / 12.0\n",
    "#Minimum monthly payment = (Minimum monthly payment rate) x (Previous balance)\n",
    "#Monthly unpaid balance = (Previous balance) - (Minimum monthly payment)\n",
    "#Updated balance each month = (Monthly unpaid balance) + (Monthly interest rate x Monthly unpaid balance)\n",
    "months = ['1', '2', '3', '4', '5', '6', '7', '8', '9', '10', '11', '12']\n",
    "count = 0\n",
    "for i in months:\n",
    "    count += 1\n",
    "    if(count > 1):\n",
    "        monthlyPayment = monthlyPaymentRate * updatedBalance\n",
    "        totalAmountPaid += monthlyPayment\n",
    "        monthlyUnpaidBalance = updatedBalance - monthlyPayment\n",
    "    \n",
    "        updatedBalance = (monthlyUnpaidBalance) + (monthlyInterestRate * monthlyUnpaidBalance)\n",
    "        updatedBalance = round(updatedBalance, 2)\n",
    "        \n",
    "    else:\n",
    "        monthlyPayment = monthlyPaymentRate * balance\n",
    "        totalAmountPaid += monthlyPayment\n",
    "        monthlyUnpaidBalance = balance - monthlyPayment\n",
    "    \n",
    "        updatedBalance = (monthlyUnpaidBalance) + (monthlyInterestRate * monthlyUnpaidBalance)\n",
    "        updatedBalance = round(updatedBalance, 2)\n",
    "print (\"Month \" + str(count) + \" Remaining Balance: \" + str(updatedBalance))    "
   ]
  },
  {
   "cell_type": "code",
   "execution_count": null,
   "metadata": {},
   "outputs": [],
   "source": []
  }
 ],
 "metadata": {
  "kernelspec": {
   "display_name": "Python 3",
   "language": "python",
   "name": "python3"
  },
  "language_info": {
   "codemirror_mode": {
    "name": "ipython",
    "version": 3
   },
   "file_extension": ".py",
   "mimetype": "text/x-python",
   "name": "python",
   "nbconvert_exporter": "python",
   "pygments_lexer": "ipython3",
   "version": "3.6.5"
  }
 },
 "nbformat": 4,
 "nbformat_minor": 2
}
