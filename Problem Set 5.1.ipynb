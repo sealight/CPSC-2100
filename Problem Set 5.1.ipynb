{
 "cells": [
  {
   "cell_type": "code",
   "execution_count": 4,
   "metadata": {},
   "outputs": [],
   "source": [
    "class Message(object):\n",
    "    \n",
    "    def __init__(self, text):\n",
    "        \n",
    "        self.message_text = text\n",
    "        self.valid_words = load_words(words.txt)\n",
    "        \n",
    "    def get_message_text(self):\n",
    "         \n",
    "        return self.message_text\n",
    "            \n",
    "    def get_valid_words(self):\n",
    "        \n",
    "        return self.valid_words[:]\n",
    "    \n",
    "    def build_shift_dict(self, shift):\n",
    "        \n",
    "        lower_keys = list(string.ascii_lowercase)\n",
    "        lower_values = list(string.ascii_lowercase)\n",
    "        shift_lower_values = lower_values[shift:] + lower_values[:shift]\n",
    "        \n",
    "        upper_keys = list(string.ascii_uppercase)\n",
    "        upper_values = list(string.ascii_uppercase)\n",
    "        shift_upper_values = upper_values[shift:] + upper_values[:shift]\n",
    "        \n",
    "        both_keys = lower_keys + upper_keys\n",
    "        both_values = shift_lower_values + shift_upper_values\n",
    "        \n",
    "        self.shift_dict = dict(zip(both_keys, both_values))\n",
    "        return self.shift_dict\n",
    "    \n",
    "    def apply_shift(self, shift):\n",
    "        \n",
    "        new_message = []\n",
    "        for i in self.message_text:\n",
    "            if i not in self.build_shift_dict(shift).keys():\n",
    "                new_message.append(i)\n",
    "                continue\n",
    "            else:\n",
    "                new_message.append(self.build_shift_dict(shift)[i])\n",
    "        return ''.join(new_message)"
   ]
  },
  {
   "cell_type": "code",
   "execution_count": null,
   "metadata": {},
   "outputs": [],
   "source": []
  }
 ],
 "metadata": {
  "kernelspec": {
   "display_name": "Python 3",
   "language": "python",
   "name": "python3"
  },
  "language_info": {
   "codemirror_mode": {
    "name": "ipython",
    "version": 3
   },
   "file_extension": ".py",
   "mimetype": "text/x-python",
   "name": "python",
   "nbconvert_exporter": "python",
   "pygments_lexer": "ipython3",
   "version": "3.6.5"
  }
 },
 "nbformat": 4,
 "nbformat_minor": 2
}
